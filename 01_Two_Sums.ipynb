{
 "cells": [
  {
   "cell_type": "markdown",
   "id": "28d7d0c9",
   "metadata": {},
   "source": [
    "Given an array of integers nums and an integer target, return indices of the two numbers such that they add up to target.\n",
    "\n",
    "You may assume that each input would have exactly one solution, and you may not use the same element twice.\n",
    "\n",
    "You can return the answer in any order.\n",
    "\n",
    "Example 1:\n",
    "\n",
    "Input: nums = [2,7,11,15], target = 9\n",
    "Output: [0,1]\n",
    "Explanation: Because nums[0] + nums[1] == 9, we return [0, 1].\n",
    "Example 2:\n",
    "\n",
    "Input: nums = [3,2,4], target = 6\n",
    "Output: [1,2]\n",
    "Example 3:\n",
    "\n",
    "Input: nums = [3,3], target = 6\n",
    "Output: [0,1]"
   ]
  },
  {
   "cell_type": "code",
   "execution_count": 1,
   "id": "38b8f945",
   "metadata": {},
   "outputs": [
    {
     "name": "stdout",
     "output_type": "stream",
     "text": [
      "[2, 7, 11, 15]\n",
      "1 2\n"
     ]
    }
   ],
   "source": [
    "\n",
    "nums = [2,7,11,15]\n",
    "\n",
    "# tar = input(\"Input target : \")\n",
    "# print(tar)\n",
    "\n",
    "\n",
    "print(nums)\n",
    "\n",
    "\n",
    "for count, i in enumerate(nums):\n",
    "    complement = 18-i\n",
    "    if complement in nums:        \n",
    "        print(count, nums.index(complement))\n",
    "        break\n"
   ]
  },
  {
   "cell_type": "code",
   "execution_count": 2,
   "id": "33134e44",
   "metadata": {},
   "outputs": [
    {
     "name": "stdout",
     "output_type": "stream",
     "text": [
      "[3, 2, 4]\n",
      "3 3\n",
      "4 2\n",
      "(1, 2)\n"
     ]
    }
   ],
   "source": [
    "from typing import List\n",
    "\n",
    "class Solution:\n",
    "    def twoSum(self, nums: List[int], target: int) -> List[int]:\n",
    "        print(nums)\n",
    "        for count, i in enumerate(nums):\n",
    "            complement = target-i\n",
    "            print(complement,i)\n",
    "            if complement in nums and count!=nums.index(complement):        \n",
    "                return(count, nums.index(complement))\n",
    "                break\n",
    "\n",
    "s = Solution()\n",
    "print(s.twoSum([3,2,4], 6)) \n",
    "# print(s.twoSum([2, 7, 11, 15], 9))  "
   ]
  },
  {
   "cell_type": "markdown",
   "id": "d326bf47",
   "metadata": {},
   "source": [
    "![image.png](attachment:image.png)"
   ]
  },
  {
   "cell_type": "code",
   "execution_count": 21,
   "id": "00d6d8dc",
   "metadata": {},
   "outputs": [
    {
     "data": {
      "text/plain": [
       "[3, 4]"
      ]
     },
     "execution_count": 21,
     "metadata": {},
     "output_type": "execute_result"
    }
   ],
   "source": [
    "from typing import List\n",
    "\n",
    "class Solution:\n",
    "    def __init__(self, nums: List[int], target: int):\n",
    "        self.nums=nums\n",
    "        self.target = target\n",
    "    \n",
    "    def twoSum(self) -> List[int]:\n",
    "        num_map = {}\n",
    "        # print(self.nums)\n",
    "        # print(self.target)\n",
    "        for i, num in enumerate(self.nums):\n",
    "            complement = self.target - num\n",
    "            if complement in num_map:\n",
    "                return [num_map[complement], i]\n",
    "            num_map[num] = i\n",
    "        return []\n",
    "        # print(nums)\n",
    "        # return(nums)\n",
    "\n",
    "\n",
    "obj1 = Solution([1,2,3,4,5],9)\n",
    "obj1.twoSum()\n",
    "        "
   ]
  },
  {
   "cell_type": "markdown",
   "id": "12d51612",
   "metadata": {},
   "source": [
    " ✅ 1. \"if complement in num_map\":\n",
    "\n",
    "This is the standard and recommended way to check if a key exists in a dictionary.\n",
    "\n",
    "It is shorter, faster, and more Pythonic.\n",
    "\n",
    "Under the hood, it checks only the dictionary’s keys.\n",
    "\n",
    "\n",
    "✅ 2. \"if complement in num_map.keys()\":\n",
    "\n",
    "This explicitly checks in the view of dictionary keys.\n",
    "\n",
    "It's functionally the same as the first one.\n",
    "\n",
    "But it's slightly less efficient, because num_map.keys() creates a view object before the lookup.\n",
    "\n",
    "✅ Performance Difference\n",
    "In large dictionaries, complement in num_map is marginally faster because it avoids creating a dict_keys view object.\n"
   ]
  },
  {
   "cell_type": "markdown",
   "id": "f6a96e5b",
   "metadata": {},
   "source": [
    "# Two-Pointer Approach (with sorted copy):"
   ]
  },
  {
   "cell_type": "code",
   "execution_count": 23,
   "id": "3d35b244",
   "metadata": {},
   "outputs": [
    {
     "name": "stdout",
     "output_type": "stream",
     "text": [
      "[3, 4]\n"
     ]
    }
   ],
   "source": [
    "from typing import List\n",
    "\n",
    "def twoSum_two_pointers(nums: List[int], target: int) -> List[int]:\n",
    "    # Store original indices with numbers\n",
    "    nums_with_indices = [(num, idx) for idx, num in enumerate(nums)]\n",
    "    # Sort based on the number value\n",
    "    nums_with_indices.sort(key=lambda x: x[0])\n",
    "    \n",
    "    left = 0\n",
    "    right = len(nums_with_indices) - 1\n",
    "    \n",
    "    while left < right:\n",
    "        left_val, left_idx = nums_with_indices[left]\n",
    "        right_val, right_idx = nums_with_indices[right]\n",
    "        current_sum = left_val + right_val\n",
    "        \n",
    "        if current_sum == target:\n",
    "            return [left_idx, right_idx]\n",
    "        elif current_sum < target:\n",
    "            left += 1\n",
    "        else:\n",
    "            right -= 1\n",
    "    \n",
    "    return []  # No pair found\n",
    "\n",
    "result = twoSum_two_pointers([1, 2, 3, 4, 5], 9)\n",
    "print(result)  # Output: [3, 4] because nums[3] + nums[4] == 4 + 5 == 9\n"
   ]
  },
  {
   "cell_type": "markdown",
   "id": "0bf7dbd2",
   "metadata": {},
   "source": [
    "Time Complexity: O(n log n) due to sorting.\n",
    "\n",
    "Space Complexity: O(n) for storing original indices."
   ]
  },
  {
   "cell_type": "code",
   "execution_count": null,
   "id": "9098270e",
   "metadata": {},
   "outputs": [],
   "source": []
  }
 ],
 "metadata": {
  "kernelspec": {
   "display_name": "Python 3",
   "language": "python",
   "name": "python3"
  },
  "language_info": {
   "codemirror_mode": {
    "name": "ipython",
    "version": 3
   },
   "file_extension": ".py",
   "mimetype": "text/x-python",
   "name": "python",
   "nbconvert_exporter": "python",
   "pygments_lexer": "ipython3",
   "version": "3.9.21"
  }
 },
 "nbformat": 4,
 "nbformat_minor": 5
}
